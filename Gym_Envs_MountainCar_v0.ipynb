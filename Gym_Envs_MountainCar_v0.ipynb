{
  "nbformat": 4,
  "nbformat_minor": 0,
  "metadata": {
    "colab": {
      "name": "Gym_Envs_1_preamble_evn_list.ipynb",
      "provenance": [],
      "collapsed_sections": [],
      "include_colab_link": true
    },
    "kernelspec": {
      "name": "python3",
      "display_name": "Python 3"
    }
  },
  "cells": [
    {
      "cell_type": "markdown",
      "metadata": {
        "id": "view-in-github",
        "colab_type": "text"
      },
      "source": [
        "<a href=\"https://colab.research.google.com/github/kenanmorani/Reinforcement_Learning_idu/blob/main/Gym_Envs_MountainCar_v0.ipynb\" target=\"_parent\"><img src=\"https://colab.research.google.com/assets/colab-badge.svg\" alt=\"Open In Colab\"/></a>"
      ]
    },
    {
      "cell_type": "markdown",
      "metadata": {
        "id": "yAevWcQHi-T4"
      },
      "source": [
        "#Reinforcement Learning Final Project  \n",
        "Izmir Democracy University, Electrical and Electronics Program  \n",
        "By Kenan Morani  \n",
        "Supervised by Assoc. Prof. Dr. Selami Beyhan  \n",
        "Presented on 11.02.2021"
      ]
    },
    {
      "cell_type": "code",
      "metadata": {
        "id": "Pn1IAnsDYK4V"
      },
      "source": [
        "!apt-get install -y xvfb python-opengl > /dev/null 2>&1"
      ],
      "execution_count": 1,
      "outputs": []
    },
    {
      "cell_type": "code",
      "metadata": {
        "id": "UMXgCNFWcx-d"
      },
      "source": [
        "!pip install gym pyvirtualdisplay > /dev/null 2>&1"
      ],
      "execution_count": 2,
      "outputs": []
    },
    {
      "cell_type": "code",
      "metadata": {
        "id": "Jh10T5veI1zk"
      },
      "source": [
        "# Importing the required libraries\n",
        "import gym\n",
        "import numpy as np\n",
        "import matplotlib.pyplot as plt\n",
        "from IPython import display as ipythondisplay"
      ],
      "execution_count": 3,
      "outputs": []
    },
    {
      "cell_type": "code",
      "metadata": {
        "colab": {
          "base_uri": "https://localhost:8080/"
        },
        "id": "YWg6aj9ddFqP",
        "outputId": "42382ed9-af23-44ad-f924-a8ae57654ba8"
      },
      "source": [
        "from pyvirtualdisplay import Display\n",
        "display = Display(visible=0, size=(400, 300))\n",
        "display.start()"
      ],
      "execution_count": 4,
      "outputs": [
        {
          "output_type": "execute_result",
          "data": {
            "text/plain": [
              "<pyvirtualdisplay.display.Display at 0x7fec8be09a20>"
            ]
          },
          "metadata": {
            "tags": []
          },
          "execution_count": 4
        }
      ]
    },
    {
      "cell_type": "code",
      "metadata": {
        "id": "JZXrnpT_e4-h",
        "colab": {
          "base_uri": "https://localhost:8080/",
          "height": 521
        },
        "outputId": "1f3d21d5-1c9e-471b-dbdb-ea2dbf320b28"
      },
      "source": [
        "env = gym.make('MountainCar-v0')\n",
        "env.reset()\n",
        "\n",
        "for i in range(50):\n",
        "  action = env.action_space.sample()\n",
        "  obs, reward, done, info = env.step(action)\n",
        "  screen = env.render(mode='rgb_array')\n",
        "  \n",
        "  plt.imshow(screen)\n",
        "  ipythondisplay.clear_output(wait=True)\n",
        "  ipythondisplay.display(plt.gcf())\n",
        "\n",
        "  if done:\n",
        "    break"
      ],
      "execution_count": 5,
      "outputs": [
        {
          "output_type": "display_data",
          "data": {
            "image/png": "[encoded data removed]",
            "text/plain": [
              "<Figure size 432x288 with 1 Axes>"
            ]
          },
          "metadata": {
            "tags": []
          }
        },
        {
          "output_type": "display_data",
          "data": {
            "image/png": "[encoded data removed]",
            "text/plain": [
              "<Figure size 432x288 with 1 Axes>"
            ]
          },
          "metadata": {
            "tags": [],
            "needs_background": "light"
          }
        }
      ]
    },
    {
      "cell_type": "markdown",
      "metadata": {
        "id": "czC7Zhq1B0t-"
      },
      "source": [
        "## Actions & States"
      ]
    },
    {
      "cell_type": "code",
      "metadata": {
        "id": "gPiPvAD8hSml",
        "colab": {
          "base_uri": "https://localhost:8080/"
        },
        "outputId": "3517ee58-94ef-43fd-8cfc-39c75a6f49eb"
      },
      "source": [
        "# Checking number of actions in the environment\n",
        "print(env.action_space.n)\n",
        " \n",
        "# Intially checking the stats and rewards in the environment\n",
        "state = env.reset()"
      ],
      "execution_count": 6,
      "outputs": [
        {
          "output_type": "stream",
          "text": [
            "3\n"
          ],
          "name": "stdout"
        }
      ]
    },
    {
      "cell_type": "markdown",
      "metadata": {
        "id": "oJTixsvBhZPm"
      },
      "source": [
        "Three actions in the environemnt:    \n",
        " Action 0. push car left   \n",
        " Action 1. do nothin  \n",
        " Action 2. push car right"
      ]
    },
    {
      "cell_type": "markdown",
      "metadata": {
        "id": "x74iuzq4hdKn"
      },
      "source": [
        "States are: position and velocity"
      ]
    },
    {
      "cell_type": "code",
      "metadata": {
        "id": "tJ-LG8IZhtT7",
        "colab": {
          "base_uri": "https://localhost:8080/"
        },
        "outputId": "1935e035-7a03-4f78-cd62-2e4d68b70977"
      },
      "source": [
        "# The range of values for observations (Velocity&Speed)\n",
        "print(env.observation_space.high) # High values for all possible observations\n",
        "print(env.observation_space.low) # Low values for all possible observations"
      ],
      "execution_count": 7,
      "outputs": [
        {
          "output_type": "stream",
          "text": [
            "[0.6  0.07]\n",
            "[-1.2  -0.07]\n"
          ],
          "name": "stdout"
        }
      ]
    },
    {
      "cell_type": "code",
      "metadata": {
        "id": "MYDh5fp7hUAV",
        "colab": {
          "base_uri": "https://localhost:8080/"
        },
        "outputId": "3fdab4d4-98b2-4e15-df98-1e688104c901"
      },
      "source": [
        "# Checking intial rewards and states\n",
        "done = False\n",
        "while not done:\n",
        "    action = 2 # Randomly chosing action 2 (push the car right) \n",
        "    new_state, reward, done, _ = env.step(action) \n",
        "    print(reward, new_state)\n",
        "    env.render()"
      ],
      "execution_count": 10,
      "outputs": [
        {
          "output_type": "stream",
          "text": [
            "-1.0 [-0.33368059 -0.00585469]\n"
          ],
          "name": "stdout"
        }
      ]
    },
    {
      "cell_type": "markdown",
      "metadata": {
        "id": "4tmjfAbPCNJv"
      },
      "source": [
        "* The initial rewards are all -1 meaning that the car has not yet reached the optimal reward of 0, when it reaches the flag on top."
      ]
    },
    {
      "cell_type": "code",
      "metadata": {
        "colab": {
          "base_uri": "https://localhost:8080/"
        },
        "id": "l06xlayjmBX4",
        "outputId": "4b3c7c69-97ac-40a2-e6ba-0fb03f222756"
      },
      "source": [
        "# Descritizing the observation range with 40 chanks\n",
        "DISCRETE_OS_SIZE = [40] * len(env.observation_space.high)\n",
        "# The window size between high and low values\n",
        "discrete_os_win_size = (env.observation_space.high - env.observation_space.low)/DISCRETE_OS_SIZE \n",
        "# [Position Velocity] chunks (equal dividing bits lengths)\n",
        "print(discrete_os_win_size) "
      ],
      "execution_count": 39,
      "outputs": [
        {
          "output_type": "stream",
          "text": [
            "[0.045  0.0035]\n"
          ],
          "name": "stdout"
        }
      ]
    },
    {
      "cell_type": "markdown",
      "metadata": {
        "id": "4LgA7fijCxr1"
      },
      "source": [
        "## Initializing Q-table"
      ]
    },
    {
      "cell_type": "code",
      "metadata": {
        "colab": {
          "base_uri": "https://localhost:8080/"
        },
        "id": "Zt1iuaijmJj4",
        "outputId": "ccde05be-4d0f-4e90-9ce7-2b50789bd352"
      },
      "source": [
        "#Intializing Qtable\n",
        "q_table = np.random.uniform(low=-2, high=0, size=(DISCRETE_OS_SIZE + [env.action_space.n])) \n",
        "print(q_table.shape)"
      ],
      "execution_count": 40,
      "outputs": [
        {
          "output_type": "stream",
          "text": [
            "(40, 40, 3)\n"
          ],
          "name": "stdout"
        }
      ]
    },
    {
      "cell_type": "markdown",
      "metadata": {
        "id": "O4M1-5z51l6K"
      },
      "source": [
        "* Coluomns of the Qtable are the size of 3 (number of actions)  \n",
        "* Rows of the table are the size of each combination possible from position*velocity which is chosen to be 20X20 matrics\n",
        "* All in all the Qtable consists of 40X40X3 matrixes (All possible combinations)"
      ]
    },
    {
      "cell_type": "code",
      "metadata": {
        "colab": {
          "base_uri": "https://localhost:8080/"
        },
        "id": "-RnFw_pvmQI7",
        "outputId": "1e9af3dd-9080-421e-9325-6a81fa70f5f5"
      },
      "source": [
        "print(q_table)"
      ],
      "execution_count": 41,
      "outputs": [
        {
          "output_type": "stream",
          "text": [
            "[[[-0.87257327 -1.99706422 -0.2915009 ]\n",
            "  [-1.06311835 -0.93063359 -0.78947425]\n",
            "  [-1.73288067 -1.55966517 -1.93813746]\n",
            "  ...\n",
            "  [-0.39162509 -1.34955075 -0.14308846]\n",
            "  [-0.38415482 -1.2250353  -1.81823437]\n",
            "  [-0.18456924 -1.67714641 -0.3648741 ]]\n",
            "\n",
            " [[-0.67835298 -0.04657395 -1.74077586]\n",
            "  [-1.28882763 -0.61228017 -1.95594084]\n",
            "  [-0.3736168  -0.87013937 -0.16889945]\n",
            "  ...\n",
            "  [-1.39409556 -1.11003039 -1.4960771 ]\n",
            "  [-1.28219745 -0.32443387 -0.41502373]\n",
            "  [-0.62769905 -1.74886261 -0.10632698]]\n",
            "\n",
            " [[-1.80133559 -0.86312203 -0.4184035 ]\n",
            "  [-0.88140152 -1.92479674 -0.81892849]\n",
            "  [-0.62174816 -1.0653813  -0.37602218]\n",
            "  ...\n",
            "  [-0.04286614 -0.88865084 -1.22221557]\n",
            "  [-1.28425321 -0.25486569 -1.30215874]\n",
            "  [-1.09451841 -0.93786956 -0.84169387]]\n",
            "\n",
            " ...\n",
            "\n",
            " [[-0.96825787 -1.63406705 -0.14139768]\n",
            "  [-0.56906802 -1.47848269 -1.30862676]\n",
            "  [-0.72306576 -0.88128316 -1.30281923]\n",
            "  ...\n",
            "  [-0.13681537 -1.38719719 -1.97613389]\n",
            "  [-1.48284722 -0.51873009 -0.55379726]\n",
            "  [-0.38043742 -0.72770005 -0.44581424]]\n",
            "\n",
            " [[-1.04390318 -0.65080022 -0.0268469 ]\n",
            "  [-1.41525591 -1.39480927 -1.38464042]\n",
            "  [-1.37700774 -0.77480919 -1.85077663]\n",
            "  ...\n",
            "  [-1.51337645 -0.92087902 -1.3738082 ]\n",
            "  [-1.18970723 -0.6821596  -0.24011743]\n",
            "  [-0.59228276 -1.88097708 -0.86624285]]\n",
            "\n",
            " [[-0.9690607  -0.03136658 -1.16728106]\n",
            "  [-1.88464757 -1.09486349 -1.93009273]\n",
            "  [-1.97587281 -1.07631844 -0.92703817]\n",
            "  ...\n",
            "  [-1.46752808 -0.65404988 -0.45198793]\n",
            "  [-1.8184511  -1.762923   -1.48777823]\n",
            "  [-1.71648506 -0.40653931 -0.13285223]]]\n"
          ],
          "name": "stdout"
        }
      ]
    },
    {
      "cell_type": "code",
      "metadata": {
        "id": "k6pHWE_waWKE"
      },
      "source": [
        "# For stats\n",
        "ep_rewards = []\n",
        "aggr_ep_rewards = {'ep': [], 'avg': [], 'max': [], 'min': []}"
      ],
      "execution_count": 28,
      "outputs": []
    },
    {
      "cell_type": "markdown",
      "metadata": {
        "id": "x8gTWlruC8Bi"
      },
      "source": [
        "# Updating Qtable values"
      ]
    },
    {
      "cell_type": "markdown",
      "metadata": {
        "id": "JXiKKyA04B3T"
      },
      "source": [
        "![image.png](data:image/png;base64,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)\n",
        "\n",
        "* https://en.wikipedia.org/wiki/Q-learning"
      ]
    },
    {
      "cell_type": "code",
      "metadata": {
        "id": "80AJ9VYl2slt"
      },
      "source": [
        "# Defining Constants\n",
        "LEARNING_RATE = 0.1\n",
        "DISCOUNT = 0.95 # Measure of how important feature actions versus current actions are\n",
        "EPISODES = 20000 # Number of iterations\n",
        "SHOW_EVERY = 500 # İnform us that you are still working to reach the top evert 2000 episodes"
      ],
      "execution_count": 42,
      "outputs": []
    },
    {
      "cell_type": "code",
      "metadata": {
        "colab": {
          "base_uri": "https://localhost:8080/"
        },
        "id": "49c-YTjt4ygT",
        "outputId": "45497763-a1ec-43b6-a8db-67a6c4e1a193"
      },
      "source": [
        "# we use this tuple to look up the 3 Q values for the available actions in the q-table\n",
        "def get_discrete_state(state):\n",
        "    discrete_state = (state - env.observation_space.low)/discrete_os_win_size\n",
        "    return tuple(discrete_state.astype(np.int))  \n",
        "discrete_state = get_discrete_state (env.reset())\n",
        "print(discrete_state)\n",
        "print(np.argmax(q_table[discrete_state])) # Understanding the max Q value in the Q-table"
      ],
      "execution_count": 43,
      "outputs": [
        {
          "output_type": "stream",
          "text": [
            "(15, 20)\n",
            "0\n"
          ],
          "name": "stdout"
        }
      ]
    },
    {
      "cell_type": "code",
      "metadata": {
        "id": "_1cJfggV6GqH"
      },
      "source": [
        "# Exploration settings\n",
        "epsilon = 1  # not a constant, qoing to be decayed\n",
        "START_EPSILON_DECAYING = 1\n",
        "END_EPSILON_DECAYING = EPISODES//2\n",
        "epsilon_decay_value = epsilon/(END_EPSILON_DECAYING - START_EPSILON_DECAYING)"
      ],
      "execution_count": 44,
      "outputs": []
    },
    {
      "cell_type": "code",
      "metadata": {
        "id": "6_aDGwuIXO-b",
        "colab": {
          "base_uri": "https://localhost:8080/"
        },
        "outputId": "253272bb-e174-428f-c5a0-19bb3150f0d0"
      },
      "source": [
        "# Running the epoches to reach the goal\n",
        "for episode in range(EPISODES):\n",
        "    episode_reward = 0\n",
        "    discrete_state = get_discrete_state(env.reset())\n",
        "    done = False\n",
        "\n",
        "    if episode % SHOW_EVERY == 0:\n",
        "        render = True\n",
        "        print(episode)\n",
        "    else:\n",
        "        render = False\n",
        "\n",
        "    while not done:\n",
        "\n",
        "        if np.random.random() > epsilon:\n",
        "            # Get action from Q table\n",
        "            action = np.argmax(q_table[discrete_state])\n",
        "        else:\n",
        "            # Get random action\n",
        "            action = np.random.randint(0, env.action_space.n)\n",
        "\n",
        "\n",
        "        new_state, reward, done, _ = env.step(action)\n",
        "\n",
        "        episode_reward += reward\n",
        "        new_discrete_state = get_discrete_state(new_state)\n",
        "\n",
        "        if episode % SHOW_EVERY == 0:\n",
        "            env.render()\n",
        "        #new_q = (1 - LEARNING_RATE) * current_q + LEARNING_RATE * (reward + DISCOUNT * max_future_q)\n",
        "\n",
        "        # If simulation did not end yet after last step - update Q table\n",
        "        if not done:\n",
        "\n",
        "            # Maximum possible Q value in next step (for new state)\n",
        "            max_future_q = np.max(q_table[new_discrete_state])\n",
        "\n",
        "            # Current Q value (for current state and performed action)\n",
        "            current_q = q_table[discrete_state + (action,)]\n",
        "\n",
        "            # And here's our equation for a new Q value for current state and action\n",
        "            new_q = (1 - LEARNING_RATE) * current_q + LEARNING_RATE * (reward + DISCOUNT * max_future_q)\n",
        "            \n",
        "            # Update Q table with new Q value\n",
        "            q_table[discrete_state + (action,)] = new_q\n",
        "            \n",
        "        # Simulation ended (for any reson) - if goal position is achived - update Q value with reward directly\n",
        "        elif new_state[0] >= env.goal_position:\n",
        "            q_table[discrete_state + (action,)] = 0\n",
        "\n",
        "        discrete_state = new_discrete_state\n",
        "\n",
        "    # Decaying is being done every episode if episode number is within decaying range\n",
        "    if END_EPSILON_DECAYING >= episode >= START_EPSILON_DECAYING:\n",
        "        epsilon -= epsilon_decay_value\n",
        "\n",
        "    ep_rewards.append(episode_reward)\n",
        "    if not episode % SHOW_EVERY:\n",
        "        average_reward = sum(ep_rewards[-SHOW_EVERY:])/SHOW_EVERY\n",
        "        aggr_ep_rewards['ep'].append(episode)\n",
        "        aggr_ep_rewards['avg'].append(average_reward)\n",
        "        aggr_ep_rewards['max'].append(max(ep_rewards[-SHOW_EVERY:]))\n",
        "        aggr_ep_rewards['min'].append(min(ep_rewards[-SHOW_EVERY:]))\n",
        "        print(f'Episode: {episode:>5d}, average reward: {average_reward:>4.1f}, current epsilon: {epsilon:>1.2f}')\n",
        "env.close()"
      ],
      "execution_count": 45,
      "outputs": [
        {
          "output_type": "stream",
          "text": [
            "0\n",
            "Episode:     0, average reward: -137.1, current epsilon: 1.00\n",
            "500\n",
            "Episode:   500, average reward: -200.0, current epsilon: 0.95\n",
            "1000\n",
            "Episode:  1000, average reward: -200.0, current epsilon: 0.90\n",
            "1500\n",
            "Episode:  1500, average reward: -200.0, current epsilon: 0.85\n",
            "2000\n",
            "Episode:  2000, average reward: -200.0, current epsilon: 0.80\n",
            "2500\n",
            "Episode:  2500, average reward: -200.0, current epsilon: 0.75\n",
            "3000\n",
            "Episode:  3000, average reward: -200.0, current epsilon: 0.70\n",
            "3500\n",
            "Episode:  3500, average reward: -200.0, current epsilon: 0.65\n",
            "4000\n",
            "Episode:  4000, average reward: -200.0, current epsilon: 0.60\n",
            "4500\n",
            "Episode:  4500, average reward: -200.0, current epsilon: 0.55\n",
            "5000\n",
            "Episode:  5000, average reward: -200.0, current epsilon: 0.50\n",
            "5500\n",
            "Episode:  5500, average reward: -199.8, current epsilon: 0.45\n",
            "6000\n",
            "Episode:  6000, average reward: -199.2, current epsilon: 0.40\n",
            "6500\n",
            "Episode:  6500, average reward: -198.7, current epsilon: 0.35\n",
            "7000\n",
            "Episode:  7000, average reward: -196.1, current epsilon: 0.30\n",
            "7500\n",
            "Episode:  7500, average reward: -194.7, current epsilon: 0.25\n",
            "8000\n",
            "Episode:  8000, average reward: -196.0, current epsilon: 0.20\n",
            "8500\n",
            "Episode:  8500, average reward: -195.1, current epsilon: 0.15\n",
            "9000\n",
            "Episode:  9000, average reward: -187.2, current epsilon: 0.10\n",
            "9500\n",
            "Episode:  9500, average reward: -182.5, current epsilon: 0.05\n",
            "10000\n",
            "Episode: 10000, average reward: -184.6, current epsilon: -0.00\n",
            "10500\n",
            "Episode: 10500, average reward: -176.2, current epsilon: -0.00\n",
            "11000\n",
            "Episode: 11000, average reward: -169.2, current epsilon: -0.00\n",
            "11500\n",
            "Episode: 11500, average reward: -174.5, current epsilon: -0.00\n",
            "12000\n",
            "Episode: 12000, average reward: -180.0, current epsilon: -0.00\n",
            "12500\n",
            "Episode: 12500, average reward: -161.9, current epsilon: -0.00\n",
            "13000\n",
            "Episode: 13000, average reward: -162.2, current epsilon: -0.00\n",
            "13500\n",
            "Episode: 13500, average reward: -160.5, current epsilon: -0.00\n",
            "14000\n",
            "Episode: 14000, average reward: -150.3, current epsilon: -0.00\n",
            "14500\n",
            "Episode: 14500, average reward: -157.6, current epsilon: -0.00\n",
            "15000\n",
            "Episode: 15000, average reward: -153.6, current epsilon: -0.00\n",
            "15500\n",
            "Episode: 15500, average reward: -148.4, current epsilon: -0.00\n",
            "16000\n",
            "Episode: 16000, average reward: -164.9, current epsilon: -0.00\n",
            "16500\n",
            "Episode: 16500, average reward: -168.1, current epsilon: -0.00\n",
            "17000\n",
            "Episode: 17000, average reward: -159.9, current epsilon: -0.00\n",
            "17500\n",
            "Episode: 17500, average reward: -140.7, current epsilon: -0.00\n",
            "18000\n",
            "Episode: 18000, average reward: -148.2, current epsilon: -0.00\n",
            "18500\n",
            "Episode: 18500, average reward: -144.9, current epsilon: -0.00\n",
            "19000\n",
            "Episode: 19000, average reward: -153.4, current epsilon: -0.00\n",
            "19500\n",
            "Episode: 19500, average reward: -141.4, current epsilon: -0.00\n"
          ],
          "name": "stdout"
        }
      ]
    },
    {
      "cell_type": "code",
      "metadata": {
        "colab": {
          "base_uri": "https://localhost:8080/",
          "height": 265
        },
        "id": "39X8_v7Hd6Uj",
        "outputId": "0f277ed9-3c91-4f66-8e44-18f44080f2d3"
      },
      "source": [
        "plt.plot(aggr_ep_rewards['ep'], aggr_ep_rewards['avg'], label=\"average rewards\")\n",
        "plt.plot(aggr_ep_rewards['ep'], aggr_ep_rewards['max'], label=\"max rewards\")\n",
        "plt.plot(aggr_ep_rewards['ep'], aggr_ep_rewards['min'], label=\"min rewards\")\n",
        "plt.legend(loc=4)\n",
        "plt.grid(True)\n",
        "plt.show()"
      ],
      "execution_count": 47,
      "outputs": [
        {
          "output_type": "display_data",
          "data": {
            "image/png": "[encoded data removed]",
            "text/plain": [
              "<Figure size 432x288 with 1 Axes>"
            ]
          },
          "metadata": {
            "tags": [],
            "needs_background": "light"
          }
        }
      ]
    }
  ]
}